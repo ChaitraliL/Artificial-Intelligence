{
  "nbformat": 4,
  "nbformat_minor": 0,
  "metadata": {
    "colab": {
      "name": "decision.ipynb",
      "version": "0.3.2",
      "provenance": [],
      "include_colab_link": true
    },
    "kernelspec": {
      "name": "python3",
      "display_name": "Python 3"
    },
    "accelerator": "GPU"
  },
  "cells": [
    {
      "cell_type": "markdown",
      "metadata": {
        "id": "view-in-github",
        "colab_type": "text"
      },
      "source": [
        "[View in Colaboratory](https://colab.research.google.com/github/ChaitraliL/Artificial-Intelligence/blob/master/decisiontree.ipynb)"
      ]
    },
    {
      "metadata": {
        "id": "mJIyBZWy4Pmy",
        "colab_type": "code",
        "colab": {}
      },
      "cell_type": "code",
      "source": [
        "#from google.colab import files\n",
        "\n",
        "#uploaded = files.upload()"
      ],
      "execution_count": 0,
      "outputs": []
    },
    {
      "metadata": {
        "id": "CCawWxl78caO",
        "colab_type": "code",
        "colab": {
          "base_uri": "https://localhost:8080/",
          "height": 34
        },
        "outputId": "9a215ee7-40ed-4cc3-f6d0-a872c4a74f55"
      },
      "cell_type": "code",
      "source": [
        "for fn in uploaded.keys():\n",
        "  print('User uploaded file \"{name}\" with length {length} bytes'.format(\n",
        "      name=fn, length=len(uploaded[fn])))"
      ],
      "execution_count": 114,
      "outputs": [
        {
          "output_type": "stream",
          "text": [
            "User uploaded file \"201805-capitalbikeshare-tripdata.csv\" with length 49429676 bytes\n"
          ],
          "name": "stdout"
        }
      ]
    },
    {
      "metadata": {
        "id": "6A3Wdn-QHzde",
        "colab_type": "code",
        "colab": {
          "base_uri": "https://localhost:8080/",
          "height": 52
        },
        "outputId": "e9985483-6847-43bf-be2e-1e60d6df6828"
      },
      "cell_type": "code",
      "source": [
        "print('Attributes used : Duration,Start station number,End station number,Bike number,Member type\\nBike number converted to categorical and then encoded due to error in converting string values to float by decision model')"
      ],
      "execution_count": 133,
      "outputs": [
        {
          "output_type": "stream",
          "text": [
            "Attributes used : Duration,Start station number,End station number,Bike number,Member type\n",
            "Bike number converted to categorical and then encoded due to error in converting string values to float by decision model\n"
          ],
          "name": "stdout"
        }
      ]
    },
    {
      "metadata": {
        "id": "WSE4zYju8glk",
        "colab_type": "code",
        "colab": {}
      },
      "cell_type": "code",
      "source": [
        "import pandas as pd\n",
        "import io\n",
        "\n",
        "df = pd.read_csv(io.StringIO(uploaded['201805-capitalbikeshare-tripdata.csv'].decode('utf-8')))"
      ],
      "execution_count": 0,
      "outputs": []
    },
    {
      "metadata": {
        "id": "BSXAQP6CCCtc",
        "colab_type": "code",
        "colab": {
          "base_uri": "https://localhost:8080/",
          "height": 260
        },
        "outputId": "95701e06-743b-40f3-8ce0-56feb335e806"
      },
      "cell_type": "code",
      "source": [
        "df.info()"
      ],
      "execution_count": 116,
      "outputs": [
        {
          "output_type": "stream",
          "text": [
            "<class 'pandas.core.frame.DataFrame'>\n",
            "RangeIndex: 374115 entries, 0 to 374114\n",
            "Data columns (total 9 columns):\n",
            "Duration                374115 non-null int64\n",
            "Start date              374115 non-null object\n",
            "End date                374115 non-null object\n",
            "Start station number    374115 non-null int64\n",
            "Start station           374115 non-null object\n",
            "End station number      374115 non-null int64\n",
            "End station             374115 non-null object\n",
            "Bike number             374115 non-null object\n",
            "Member type             374115 non-null object\n",
            "dtypes: int64(3), object(6)\n",
            "memory usage: 25.7+ MB\n"
          ],
          "name": "stdout"
        }
      ]
    },
    {
      "metadata": {
        "id": "GFmdTz5vyd6e",
        "colab_type": "code",
        "colab": {
          "base_uri": "https://localhost:8080/",
          "height": 260
        },
        "outputId": "dc62fde5-207e-4851-937a-0ecd981c9db4"
      },
      "cell_type": "code",
      "source": [
        "df['Bike number'] = df['Bike number'].astype('category')\n",
        "df.info()\n",
        "df['Bike number'].nunique()\n",
        "df['Bike number'] = df['Bike number'].cat.codes"
      ],
      "execution_count": 117,
      "outputs": [
        {
          "output_type": "stream",
          "text": [
            "<class 'pandas.core.frame.DataFrame'>\n",
            "RangeIndex: 374115 entries, 0 to 374114\n",
            "Data columns (total 9 columns):\n",
            "Duration                374115 non-null int64\n",
            "Start date              374115 non-null object\n",
            "End date                374115 non-null object\n",
            "Start station number    374115 non-null int64\n",
            "Start station           374115 non-null object\n",
            "End station number      374115 non-null int64\n",
            "End station             374115 non-null object\n",
            "Bike number             374115 non-null category\n",
            "Member type             374115 non-null object\n",
            "dtypes: category(1), int64(3), object(5)\n",
            "memory usage: 23.7+ MB\n"
          ],
          "name": "stdout"
        }
      ]
    },
    {
      "metadata": {
        "id": "M3qwi-OEr5yU",
        "colab_type": "code",
        "colab": {
          "base_uri": "https://localhost:8080/",
          "height": 69
        },
        "outputId": "20d2aab1-b207-4df3-9c85-28034ca9d8fe"
      },
      "cell_type": "code",
      "source": [
        "print(df['Start station number'].nunique())\n",
        "print(df['Start station'].nunique())\n",
        "#print(df.groupby(['Start station number','Start station']).size())\n",
        "print('Start station number and Start station are same hence discard start station')"
      ],
      "execution_count": 118,
      "outputs": [
        {
          "output_type": "stream",
          "text": [
            "501\n",
            "501\n",
            "Start station number and Start station are same hence discard start station\n"
          ],
          "name": "stdout"
        }
      ]
    },
    {
      "metadata": {
        "id": "fuxvwjdOtTVA",
        "colab_type": "code",
        "colab": {
          "base_uri": "https://localhost:8080/",
          "height": 69
        },
        "outputId": "26e93ea8-4a09-406c-e5ad-a2b298771b36"
      },
      "cell_type": "code",
      "source": [
        "print(df['End station number'].nunique())\n",
        "print(df['End station'].nunique())\n",
        "#print(df.groupby(['End station number','End station']).size())\n",
        "print('End station number and End station are same hence discard end station')"
      ],
      "execution_count": 119,
      "outputs": [
        {
          "output_type": "stream",
          "text": [
            "501\n",
            "501\n",
            "End station number and End station are same hence discard end station\n"
          ],
          "name": "stdout"
        }
      ]
    },
    {
      "metadata": {
        "id": "-JMx_EibqR56",
        "colab_type": "code",
        "colab": {
          "base_uri": "https://localhost:8080/",
          "height": 173
        },
        "outputId": "f9f749ba-55ab-4d92-8968-2695541e857d"
      },
      "cell_type": "code",
      "source": [
        "df['Duration'].describe()"
      ],
      "execution_count": 120,
      "outputs": [
        {
          "output_type": "execute_result",
          "data": {
            "text/plain": [
              "count    374115.000000\n",
              "mean       1261.837144\n",
              "std        2423.195856\n",
              "min          60.000000\n",
              "25%         441.000000\n",
              "50%         769.000000\n",
              "75%        1322.000000\n",
              "max       86181.000000\n",
              "Name: Duration, dtype: float64"
            ]
          },
          "metadata": {
            "tags": []
          },
          "execution_count": 120
        }
      ]
    },
    {
      "metadata": {
        "id": "_ug1Hulwnz1y",
        "colab_type": "code",
        "colab": {
          "base_uri": "https://localhost:8080/",
          "height": 347
        },
        "outputId": "0b79778b-6dbf-4f19-9ccb-4021d81e0b9f"
      },
      "cell_type": "code",
      "source": [
        "import matplotlib.pyplot as plt\n",
        "boxplot = df.boxplot(column = ['Duration'])\n",
        "boxplot.set_ylim(0, 1500)\n",
        "plt.show()"
      ],
      "execution_count": 121,
      "outputs": [
        {
          "output_type": "display_data",
          "data": {
            "image/png": "[encoded data removed]",
            "text/plain": [
              "<matplotlib.figure.Figure at 0x7f82f18e3630>"
            ]
          },
          "metadata": {
            "tags": []
          }
        }
      ]
    },
    {
      "metadata": {
        "id": "77l5VI6g9Nj-",
        "colab_type": "code",
        "colab": {
          "base_uri": "https://localhost:8080/",
          "height": 206
        },
        "outputId": "c33f3c10-0873-425d-c911-f870ef319542"
      },
      "cell_type": "code",
      "source": [
        "df = df[['Duration','Start station number','End station number','Bike number','Member type']]\n",
        "df['Member type'] = df['Member type'].map({'Casual': 0, 'Member': 1})\n",
        "df.head()"
      ],
      "execution_count": 122,
      "outputs": [
        {
          "output_type": "execute_result",
          "data": {
            "text/html": [
              "<div>\n",
              "<style scoped>\n",
              "    .dataframe tbody tr th:only-of-type {\n",
              "        vertical-align: middle;\n",
              "    }\n",
              "\n",
              "    .dataframe tbody tr th {\n",
              "        vertical-align: top;\n",
              "    }\n",
              "\n",
              "    .dataframe thead th {\n",
              "        text-align: right;\n",
              "    }\n",
              "</style>\n",
              "<table border=\"1\" class=\"dataframe\">\n",
              "  <thead>\n",
              "    <tr style=\"text-align: right;\">\n",
              "      <th></th>\n",
              "      <th>Duration</th>\n",
              "      <th>Start station number</th>\n",
              "      <th>End station number</th>\n",
              "      <th>Bike number</th>\n",
              "      <th>Member type</th>\n",
              "    </tr>\n",
              "  </thead>\n",
              "  <tbody>\n",
              "    <tr>\n",
              "      <th>0</th>\n",
              "      <td>679</td>\n",
              "      <td>31302</td>\n",
              "      <td>31307</td>\n",
              "      <td>3633</td>\n",
              "      <td>1</td>\n",
              "    </tr>\n",
              "    <tr>\n",
              "      <th>1</th>\n",
              "      <td>578</td>\n",
              "      <td>31232</td>\n",
              "      <td>31609</td>\n",
              "      <td>2376</td>\n",
              "      <td>0</td>\n",
              "    </tr>\n",
              "    <tr>\n",
              "      <th>2</th>\n",
              "      <td>580</td>\n",
              "      <td>31232</td>\n",
              "      <td>31609</td>\n",
              "      <td>1977</td>\n",
              "      <td>0</td>\n",
              "    </tr>\n",
              "    <tr>\n",
              "      <th>3</th>\n",
              "      <td>606</td>\n",
              "      <td>31104</td>\n",
              "      <td>31509</td>\n",
              "      <td>676</td>\n",
              "      <td>1</td>\n",
              "    </tr>\n",
              "    <tr>\n",
              "      <th>4</th>\n",
              "      <td>582</td>\n",
              "      <td>31129</td>\n",
              "      <td>31118</td>\n",
              "      <td>2819</td>\n",
              "      <td>1</td>\n",
              "    </tr>\n",
              "  </tbody>\n",
              "</table>\n",
              "</div>"
            ],
            "text/plain": [
              "   Duration  Start station number  End station number  Bike number  \\\n",
              "0       679                 31302               31307         3633   \n",
              "1       578                 31232               31609         2376   \n",
              "2       580                 31232               31609         1977   \n",
              "3       606                 31104               31509          676   \n",
              "4       582                 31129               31118         2819   \n",
              "\n",
              "   Member type  \n",
              "0            1  \n",
              "1            0  \n",
              "2            0  \n",
              "3            1  \n",
              "4            1  "
            ]
          },
          "metadata": {
            "tags": []
          },
          "execution_count": 122
        }
      ]
    },
    {
      "metadata": {
        "id": "IBL-61oLNNMC",
        "colab_type": "code",
        "colab": {
          "base_uri": "https://localhost:8080/",
          "height": 191
        },
        "outputId": "1584af6f-c204-470e-e8eb-038f7b372b52"
      },
      "cell_type": "code",
      "source": [
        "df.info()"
      ],
      "execution_count": 123,
      "outputs": [
        {
          "output_type": "stream",
          "text": [
            "<class 'pandas.core.frame.DataFrame'>\n",
            "RangeIndex: 374115 entries, 0 to 374114\n",
            "Data columns (total 5 columns):\n",
            "Duration                374115 non-null int64\n",
            "Start station number    374115 non-null int64\n",
            "End station number      374115 non-null int64\n",
            "Bike number             374115 non-null int16\n",
            "Member type             374115 non-null int64\n",
            "dtypes: int16(1), int64(4)\n",
            "memory usage: 12.1 MB\n"
          ],
          "name": "stdout"
        }
      ]
    },
    {
      "metadata": {
        "id": "h9jIt5Rc9P4s",
        "colab_type": "code",
        "colab": {}
      },
      "cell_type": "code",
      "source": [
        "X = df.drop('Member type', axis=1)\n",
        "y = df['Member type']"
      ],
      "execution_count": 0,
      "outputs": []
    },
    {
      "metadata": {
        "id": "iN8CoMk_-N4c",
        "colab_type": "code",
        "colab": {}
      },
      "cell_type": "code",
      "source": [
        "from sklearn.model_selection import train_test_split\n",
        "\n",
        "X_train, X_test, y_train, y_test = train_test_split(X, y, random_state=1)"
      ],
      "execution_count": 0,
      "outputs": []
    },
    {
      "metadata": {
        "id": "NbuTZL-A-0_M",
        "colab_type": "code",
        "colab": {}
      },
      "cell_type": "code",
      "source": [
        "from sklearn import tree\n",
        "\n",
        "model = tree.DecisionTreeClassifier()"
      ],
      "execution_count": 0,
      "outputs": []
    },
    {
      "metadata": {
        "id": "AaA6Y6tb_K_O",
        "colab_type": "code",
        "colab": {
          "base_uri": "https://localhost:8080/",
          "height": 121
        },
        "outputId": "56c13a7e-4a63-440c-fa64-33483112e4c7"
      },
      "cell_type": "code",
      "source": [
        "model"
      ],
      "execution_count": 127,
      "outputs": [
        {
          "output_type": "execute_result",
          "data": {
            "text/plain": [
              "DecisionTreeClassifier(class_weight=None, criterion='gini', max_depth=None,\n",
              "            max_features=None, max_leaf_nodes=None,\n",
              "            min_impurity_decrease=0.0, min_impurity_split=None,\n",
              "            min_samples_leaf=1, min_samples_split=2,\n",
              "            min_weight_fraction_leaf=0.0, presort=False, random_state=None,\n",
              "            splitter='best')"
            ]
          },
          "metadata": {
            "tags": []
          },
          "execution_count": 127
        }
      ]
    },
    {
      "metadata": {
        "id": "B-k-sfsP_MQs",
        "colab_type": "code",
        "colab": {
          "base_uri": "https://localhost:8080/",
          "height": 121
        },
        "outputId": "c143c003-b2c6-4659-c195-bddb09aa43bd"
      },
      "cell_type": "code",
      "source": [
        "model.fit(X_train, y_train)"
      ],
      "execution_count": 128,
      "outputs": [
        {
          "output_type": "execute_result",
          "data": {
            "text/plain": [
              "DecisionTreeClassifier(class_weight=None, criterion='gini', max_depth=None,\n",
              "            max_features=None, max_leaf_nodes=None,\n",
              "            min_impurity_decrease=0.0, min_impurity_split=None,\n",
              "            min_samples_leaf=1, min_samples_split=2,\n",
              "            min_weight_fraction_leaf=0.0, presort=False, random_state=None,\n",
              "            splitter='best')"
            ]
          },
          "metadata": {
            "tags": []
          },
          "execution_count": 128
        }
      ]
    },
    {
      "metadata": {
        "id": "G4sbvqXN_bwe",
        "colab_type": "code",
        "colab": {
          "base_uri": "https://localhost:8080/",
          "height": 34
        },
        "outputId": "a249016d-371b-4458-e9cb-11fc7eb9deb9"
      },
      "cell_type": "code",
      "source": [
        "y_predict = model.predict(X_test)\n",
        "\n",
        "from sklearn.metrics import accuracy_score\n",
        "\n",
        "accuracy_score(y_test, y_predict)"
      ],
      "execution_count": 129,
      "outputs": [
        {
          "output_type": "execute_result",
          "data": {
            "text/plain": [
              "0.7677939462626565"
            ]
          },
          "metadata": {
            "tags": []
          },
          "execution_count": 129
        }
      ]
    },
    {
      "metadata": {
        "id": "iF20cPeGN9fm",
        "colab_type": "code",
        "colab": {
          "base_uri": "https://localhost:8080/",
          "height": 112
        },
        "outputId": "8bac2fbf-d0c4-42c0-a8e3-eda72e13bc2d"
      },
      "cell_type": "code",
      "source": [
        "from sklearn.metrics import confusion_matrix\n",
        "\n",
        "pd.DataFrame(\n",
        "    confusion_matrix(y_test, y_predict),\n",
        "    columns=['Predicted casual', 'Predicted member'],\n",
        "    index=['True casual', 'True member']\n",
        ")"
      ],
      "execution_count": 130,
      "outputs": [
        {
          "output_type": "execute_result",
          "data": {
            "text/html": [
              "<div>\n",
              "<style scoped>\n",
              "    .dataframe tbody tr th:only-of-type {\n",
              "        vertical-align: middle;\n",
              "    }\n",
              "\n",
              "    .dataframe tbody tr th {\n",
              "        vertical-align: top;\n",
              "    }\n",
              "\n",
              "    .dataframe thead th {\n",
              "        text-align: right;\n",
              "    }\n",
              "</style>\n",
              "<table border=\"1\" class=\"dataframe\">\n",
              "  <thead>\n",
              "    <tr style=\"text-align: right;\">\n",
              "      <th></th>\n",
              "      <th>Predicted casual</th>\n",
              "      <th>Predicted member</th>\n",
              "    </tr>\n",
              "  </thead>\n",
              "  <tbody>\n",
              "    <tr>\n",
              "      <th>True casual</th>\n",
              "      <td>15057</td>\n",
              "      <td>10506</td>\n",
              "    </tr>\n",
              "    <tr>\n",
              "      <th>True member</th>\n",
              "      <td>11212</td>\n",
              "      <td>56754</td>\n",
              "    </tr>\n",
              "  </tbody>\n",
              "</table>\n",
              "</div>"
            ],
            "text/plain": [
              "             Predicted casual  Predicted member\n",
              "True casual             15057             10506\n",
              "True member             11212             56754"
            ]
          },
          "metadata": {
            "tags": []
          },
          "execution_count": 130
        }
      ]
    },
    {
      "metadata": {
        "id": "q5L4V5PyXJb8",
        "colab_type": "code",
        "colab": {
          "base_uri": "https://localhost:8080/",
          "height": 69
        },
        "outputId": "32ee3279-7056-44d2-c3ad-e7c55bd6b79a"
      },
      "cell_type": "code",
      "source": [
        "y_test.value_counts()"
      ],
      "execution_count": 131,
      "outputs": [
        {
          "output_type": "execute_result",
          "data": {
            "text/plain": [
              "1    67966\n",
              "0    25563\n",
              "Name: Member type, dtype: int64"
            ]
          },
          "metadata": {
            "tags": []
          },
          "execution_count": 131
        }
      ]
    }
  ]
}